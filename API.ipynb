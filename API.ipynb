{
  "nbformat": 4,
  "nbformat_minor": 0,
  "metadata": {
    "colab": {
      "provenance": [],
      "authorship_tag": "ABX9TyOmDYIsGZaGTUwuZyNlnMnB",
      "include_colab_link": true
    },
    "kernelspec": {
      "name": "python3",
      "display_name": "Python 3"
    },
    "language_info": {
      "name": "python"
    }
  },
  "cells": [
    {
      "cell_type": "markdown",
      "metadata": {
        "id": "view-in-github",
        "colab_type": "text"
      },
      "source": [
        "<a href=\"https://colab.research.google.com/github/ArkajKadam/ML/blob/main/API.ipynb\" target=\"_parent\"><img src=\"https://colab.research.google.com/assets/colab-badge.svg\" alt=\"Open In Colab\"/></a>"
      ]
    },
    {
      "cell_type": "code",
      "execution_count": 2,
      "metadata": {
        "colab": {
          "base_uri": "https://localhost:8080/",
          "height": 0
        },
        "id": "ebdXtwXEH6dE",
        "outputId": "aa982201-230e-4eee-e712-2ab5cb4998c8"
      },
      "outputs": [
        {
          "output_type": "stream",
          "name": "stdout",
          "text": [
            "{\n",
            "     \"coord\": {\n",
            "          \"lon\": 74.5642,\n",
            "          \"lat\": 16.8544\n",
            "     },\n",
            "     \"weather\": [\n",
            "          {\n",
            "               \"id\": 804,\n",
            "               \"main\": \"Clouds\",\n",
            "               \"description\": \"overcast clouds\",\n",
            "               \"icon\": \"04n\"\n",
            "          }\n",
            "     ],\n",
            "     \"base\": \"stations\",\n",
            "     \"main\": {\n",
            "          \"temp\": 295.92,\n",
            "          \"feels_like\": 296.65,\n",
            "          \"temp_min\": 295.92,\n",
            "          \"temp_max\": 295.92,\n",
            "          \"pressure\": 1011,\n",
            "          \"humidity\": 92,\n",
            "          \"sea_level\": 1011,\n",
            "          \"grnd_level\": 947\n",
            "     },\n",
            "     \"visibility\": 10000,\n",
            "     \"wind\": {\n",
            "          \"speed\": 0.2,\n",
            "          \"deg\": 131,\n",
            "          \"gust\": 0.22\n",
            "     },\n",
            "     \"clouds\": {\n",
            "          \"all\": 100\n",
            "     },\n",
            "     \"dt\": 1729096151,\n",
            "     \"sys\": {\n",
            "          \"country\": \"IN\",\n",
            "          \"sunrise\": 1729040073,\n",
            "          \"sunset\": 1729082380\n",
            "     },\n",
            "     \"timezone\": 19800,\n",
            "     \"id\": 1257416,\n",
            "     \"name\": \"Sangli\",\n",
            "     \"cod\": 200\n",
            "}\n"
          ]
        }
      ],
      "source": [
        "import json\n",
        "import requests\n",
        "\n",
        "api_key = \"5a2079726df9da63a467b5825cc2429b\"\n",
        "city = \"Sangli\"\n",
        "url = f\"https://api.openweathermap.org/data/2.5/weather?q={city}&appid={api_key}\"\n",
        "\n",
        "response = requests.get(url)\n",
        "\n",
        "if response.status_code == 200:\n",
        "    data = response.json()\n",
        "\n",
        "    print(json.dumps(data, indent=5))\n",
        "\n",
        "    with open(\"weather_data.json\",\"w\") as file:\n",
        "        json.dump(data,file,indent=5)\n",
        "else:\n",
        "    print(f\"Error : {response.status_code}\")"
      ]
    }
  ]
}